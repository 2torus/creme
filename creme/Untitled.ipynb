{
 "cells": [
  {
   "cell_type": "code",
   "execution_count": null,
   "metadata": {},
   "outputs": [],
   "source": [
    "import creme"
   ]
  },
  {
   "cell_type": "code",
   "execution_count": null,
   "metadata": {},
   "outputs": [],
   "source": [
    "creme.stats.Skew().update(1).get()"
   ]
  },
  {
   "cell_type": "code",
   "execution_count": null,
   "metadata": {},
   "outputs": [],
   "source": [
    "class Mode():\n",
    "    def __init__(\n",
    "        self,\n",
    "        k,\n",
    "        m,\n",
    "    ):\n",
    "        # Size of the array\n",
    "        self.k = k\n",
    "\n",
    "        # Number of hashes function\n",
    "        self.m = m\n",
    "        \n",
    "        self.hash_board = [0] * self.k\n",
    "        \n",
    "        self.hash_function = [\n",
    "            hashlib.md5,\n",
    "            hashlib.blake2b,\n",
    "            hashlib.sha512,                   \n",
    "        ]\n",
    "        \n",
    "        \n",
    "        \n",
    "    def update_hash(self, x):\n",
    "        for i in range(self.m):\n",
    "            id_hash = self._get_id_hash(x, self.hash_function[i])\n",
    "            self.hash_board[id_hash] += 1 \n",
    "        return self\n",
    "            \n",
    "    \n",
    "    def _get_id_hash(self, x, function):\n",
    "        encoded_value = bytes(x, encoding = 'ASCII')\n",
    "        hash_object   = function(encoded_value)\n",
    "        hash_digit    = hash_object.hexdigest()\n",
    "        return int(hash_digit, 16) % self.k"
   ]
  },
  {
   "cell_type": "code",
   "execution_count": null,
   "metadata": {},
   "outputs": [],
   "source": [
    "Mode(k = 20, m = 3).update_hash(':)!drole!!').hash_board"
   ]
  },
  {
   "cell_type": "code",
   "execution_count": null,
   "metadata": {},
   "outputs": [],
   "source": [
    "import hashlib"
   ]
  },
  {
   "cell_type": "code",
   "execution_count": null,
   "metadata": {},
   "outputs": [],
   "source": [
    "%timeit hash_object = hashlib.sha1(b'Hello word, how are you?')"
   ]
  },
  {
   "cell_type": "code",
   "execution_count": null,
   "metadata": {},
   "outputs": [],
   "source": [
    "%timeit hex_dig = hash_object.digest()"
   ]
  },
  {
   "cell_type": "code",
   "execution_count": null,
   "metadata": {},
   "outputs": [],
   "source": [
    "print(int(hex_dig, 16)%15)"
   ]
  },
  {
   "cell_type": "code",
   "execution_count": null,
   "metadata": {},
   "outputs": [],
   "source": []
  }
 ],
 "metadata": {
  "kernelspec": {
   "display_name": "Python 3",
   "language": "python",
   "name": "python3"
  },
  "language_info": {
   "codemirror_mode": {
    "name": "ipython",
    "version": 3
   },
   "file_extension": ".py",
   "mimetype": "text/x-python",
   "name": "python",
   "nbconvert_exporter": "python",
   "pygments_lexer": "ipython3",
   "version": "3.6.5"
  }
 },
 "nbformat": 4,
 "nbformat_minor": 2
}
