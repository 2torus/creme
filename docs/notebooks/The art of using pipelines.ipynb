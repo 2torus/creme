{
 "cells": [
  {
   "cell_type": "markdown",
   "metadata": {},
   "source": [
    "# The art of using pipelines"
   ]
  },
  {
   "cell_type": "markdown",
   "metadata": {},
   "source": [
    "Pipelines are a natural way to think about a machine learning system. Indeed with some practice a data scientist can visualise data \"flowing\" through a series of steps. The input is typically some raw data which has to be processed in some manner. The goal is to represent the data in such a way that is can be ingested by a machine learning algorithm. Along the way some steps will extract features, while others will normalize the data and remove undesirable elements. Pipelines are simple, and yet they are a powerful way of designing sophisticated machine learning systems.\n",
    "\n",
    "Both [scikit-learn](https://stackoverflow.com/questions/33091376/python-what-is-exactly-sklearn-pipeline-pipeline) and [pandas](https://tomaugspurger.github.io/method-chaining) make it possible to use pipelines. However it's quite rare to see pipelines being used in practice (at least on Kaggle). Sometimes you get to see people using scikit-learn's `pipeline` module, however the `pipe` method from `pandas` is sadly underappreciated. A big reason why pipelines are not given much love is that it's easier to think of batch learning in terms of a script or a notebook. Indeed many people doing data science seem to prefer a procedural style to a declarative style. Moreover in practice pipelines can be a bit rigid if one wishes to do non-orthodox operations.\n",
    "\n",
    "Although pipelines may be a bit of an odd fit for batch learning, they make complete sense when they are used for online learning. Indeed the UNIX philosophy has advocated the use of pipelines for data processing for many decades. If you can visualise data as a stream of observations then using pipelines should make a lot of sense to you. We'll attempt to convince you by writing a machine learning algorithm in a procedural way and then converting it to a declarative pipeline in small steps. Hopefully by the end you'll be convinced, or not!\n",
    "\n",
    "In this notebook we'll manipulate data from the [Kaggle Recruit Restaurants Visitor Forecasting competition](https://www.kaggle.com/c/recruit-restaurant-visitor-forecasting). The data is directly available through `creme`'s `datasets` module."
   ]
  },
  {
   "cell_type": "code",
   "execution_count": null,
   "metadata": {},
   "outputs": [],
   "source": [
    "from pprint import pprint\n",
    "from creme import datasets\n",
    "\n",
    "for x, y in datasets.fetch_restaurants():\n",
    "    pprint(x)\n",
    "    pprint(y)\n",
    "    break"
   ]
  },
  {
   "cell_type": "markdown",
   "metadata": {},
   "source": [
    "We'll start by building and running a model using a procedural coding style. The performance of the model doesn't matter, we're simply interested in the design of the model."
   ]
  },
  {
   "cell_type": "code",
   "execution_count": null,
   "metadata": {},
   "outputs": [],
   "source": [
    "from creme import feature_extraction\n",
    "from creme import linear_model\n",
    "from creme import metrics\n",
    "from creme import preprocessing\n",
    "from creme import stats\n",
    "\n",
    "\n",
    "means = (\n",
    "    feature_extraction.TargetGroupBy(by='store_id', how=stats.RollingMean(7)),\n",
    "    feature_extraction.TargetGroupBy(by='store_id', how=stats.RollingMean(14)),\n",
    "    feature_extraction.TargetGroupBy(by='store_id', how=stats.RollingMean(21))\n",
    ")\n",
    "\n",
    "scaler = preprocessing.StandardScaler()\n",
    "lin_reg = linear_model.LinearRegression()\n",
    "metric = metrics.MAE()\n",
    "\n",
    "for x, y in datasets.fetch_restaurants():\n",
    "    \n",
    "    # Derive date features\n",
    "    x['weekday'] = x['date'].weekday()\n",
    "    x['is_weekend'] = x['date'].weekday() in (5, 6)\n",
    "    \n",
    "    # Process the rolling means of the target  \n",
    "    for mean in means:\n",
    "        x = {**x, **mean.fit_transform_one(x, y)}\n",
    "    \n",
    "    # Remove the key/value pairs that aren't features\n",
    "    for key in ['store_id', 'date', 'genre_name', 'area_name', 'latitude', 'longitude']:\n",
    "        x.pop(key)\n",
    "    \n",
    "    # Rescale the data\n",
    "    x = scaler.fit_one(x, y).transform_one(x)\n",
    "    \n",
    "    # Fit the linear regression\n",
    "    y_pred = lin_reg.fit_predict_one(x, y)\n",
    "    \n",
    "    # Update the metric using the out-of-fold prediction\n",
    "    metric.update(y, y_pred)\n",
    "    \n",
    "print(metric)"
   ]
  },
  {
   "cell_type": "markdown",
   "metadata": {},
   "source": [
    "We're not using many features. We can print the last `x` to get an idea of the features (don't forget they've been scaled!)"
   ]
  },
  {
   "cell_type": "code",
   "execution_count": null,
   "metadata": {},
   "outputs": [],
   "source": [
    "pprint(x)"
   ]
  },
  {
   "cell_type": "markdown",
   "metadata": {},
   "source": [
    "The above chunk of code is quite explicit but it's a bit verbose. The whole point of libraries such as `creme` is to make life easier for users. Moreover there's too much space for users to mess up the order in which things are done, which increases the chance of there being target leakage. We'll now rewrite our model in a declarative fashion using a pipeline *à la sklearn*.  "
   ]
  },
  {
   "cell_type": "code",
   "execution_count": null,
   "metadata": {},
   "outputs": [],
   "source": [
    "from creme import compose\n",
    "\n",
    "\n",
    "def get_date_features(x):\n",
    "    weekday =  x['date'].weekday()\n",
    "    return {'weekday': weekday, 'is_weekend': weekday in (5, 6)}\n",
    "\n",
    "\n",
    "model = compose.Pipeline([\n",
    "    ('features', compose.TransformerUnion([\n",
    "        ('date_features', compose.FuncTransformer(get_date_features)),\n",
    "        ('last_7_mean', feature_extraction.TargetGroupBy(by='store_id', how=stats.RollingMean(7))),\n",
    "        ('last_14_mean', feature_extraction.TargetGroupBy(by='store_id', how=stats.RollingMean(14))),\n",
    "        ('last_21_mean', feature_extraction.TargetGroupBy(by='store_id', how=stats.RollingMean(21)))\n",
    "    ])),\n",
    "    ('drop_non_features', compose.Blacklister(['store_id', 'date', 'genre_name', 'area_name', 'latitude', 'longitude'])),\n",
    "    ('scale', preprocessing.StandardScaler()),\n",
    "    ('lin_reg', linear_model.LinearRegression())\n",
    "])\n",
    "\n",
    "metric = metrics.MAE()\n",
    "\n",
    "for x, y in datasets.fetch_restaurants():\n",
    "    \n",
    "    # Fit the model\n",
    "    y_pred = model.fit_predict_one(x, y)\n",
    "    \n",
    "    # Update the metric using the out-of-fold prediction\n",
    "    metric.update(y, y_pred)\n",
    "    \n",
    "print(metric)"
   ]
  },
  {
   "cell_type": "markdown",
   "metadata": {},
   "source": [
    "We use a `Pipeline` to arrange each step in a sequential order. A `TransformerUnion` is used to merge multiple feature extractors into a single transformer. The `for` loop is now much shorter and is thus easier to grok: we get the out-of-fold prediction, we fit the model, and finally we update the metric. This way of evaluating a model is typical of online learning, and so we put it wrapped it inside a function called `online_score` part of the `model_selection` module. We can use it to replace the `for` loop."
   ]
  },
  {
   "cell_type": "code",
   "execution_count": null,
   "metadata": {},
   "outputs": [],
   "source": [
    "from creme import model_selection\n",
    "\n",
    "model = compose.Pipeline([\n",
    "    ('features', compose.TransformerUnion([\n",
    "        ('date_features', compose.FuncTransformer(get_date_features)),\n",
    "        ('last_7_mean', feature_extraction.TargetGroupBy(by='store_id', how=stats.RollingMean(7))),\n",
    "        ('last_14_mean', feature_extraction.TargetGroupBy(by='store_id', how=stats.RollingMean(14))),\n",
    "        ('last_21_mean', feature_extraction.TargetGroupBy(by='store_id', how=stats.RollingMean(21)))\n",
    "    ])),\n",
    "    ('drop_non_features', compose.Blacklister(['store_id', 'date', 'genre_name', 'area_name', 'latitude', 'longitude'])),\n",
    "    ('scale', preprocessing.StandardScaler()),\n",
    "    ('lin_reg', linear_model.LinearRegression())\n",
    "])\n",
    "\n",
    "model_selection.online_score(X_y=datasets.fetch_restaurants(), model=model, metric=metrics.MAE())"
   ]
  },
  {
   "cell_type": "markdown",
   "metadata": {},
   "source": [
    "Notice that you couldn't have used the `online_score` method if you wrote the model in a procedural manner.\n",
    "\n",
    "Our code is getting shorter, but it's still a bit difficult on the eyes. Indeed there is a lot of boilerplate code associated with pipelines that can get tedious to write. However `creme` has some special tricks up it's sleeve to save you from a lot of pain.\n",
    "\n",
    "The first trick is that the name of each step in the pipeline can be omitted. If no name is given for a step then `creme` automatically infers one."
   ]
  },
  {
   "cell_type": "code",
   "execution_count": null,
   "metadata": {},
   "outputs": [],
   "source": [
    "model = compose.Pipeline([\n",
    "    compose.TransformerUnion([\n",
    "        compose.FuncTransformer(get_date_features),\n",
    "        feature_extraction.TargetGroupBy(by='store_id', how=stats.RollingMean(7)),\n",
    "        feature_extraction.TargetGroupBy(by='store_id', how=stats.RollingMean(14)),\n",
    "        feature_extraction.TargetGroupBy(by='store_id', how=stats.RollingMean(21))\n",
    "    ]),\n",
    "    compose.Blacklister(['store_id', 'date', 'genre_name', 'area_name', 'latitude', 'longitude']),\n",
    "    preprocessing.StandardScaler(),\n",
    "    linear_model.LinearRegression()\n",
    "])\n",
    "\n",
    "model_selection.online_score(datasets.fetch_restaurants(), model, metrics.MAE())"
   ]
  },
  {
   "cell_type": "markdown",
   "metadata": {},
   "source": [
    "Under the hood a `Pipeline` inherits from `collections.OrderedDict`. Indeed this makes sense because if you think about it a `Pipeline` is simply a sequence of steps where each step has a name. The reason we mention this is because it means you can manipulate a `Pipeline` the same way you would manipulate an ordinary `dict`. For instance we can print the name of each step by using the `keys` method."
   ]
  },
  {
   "cell_type": "code",
   "execution_count": null,
   "metadata": {},
   "outputs": [],
   "source": [
    "for name in model.keys():\n",
    "    print(name)"
   ]
  },
  {
   "cell_type": "markdown",
   "metadata": {},
   "source": [
    "The first step is a `FeatureUnion` and it's string representation contains the string representation of each of it's elements. Not having to write names saves up some time and space and is certainly less tedious.\n",
    "\n",
    "The next trick is that we can use mathematical operators to compose our pipeline. For example we can use the `+` operator to merge `Transformer`s into a `TransformerUnion`. "
   ]
  },
  {
   "cell_type": "code",
   "execution_count": null,
   "metadata": {},
   "outputs": [],
   "source": [
    "model = compose.Pipeline([\n",
    "    compose.FuncTransformer(get_date_features) + \\\n",
    "    feature_extraction.TargetGroupBy(by='store_id', how=stats.RollingMean(7)) + \\\n",
    "    feature_extraction.TargetGroupBy(by='store_id', how=stats.RollingMean(14)) + \\\n",
    "    feature_extraction.TargetGroupBy(by='store_id', how=stats.RollingMean(21)),\n",
    "\n",
    "    compose.Blacklister(['store_id', 'date', 'genre_name', 'area_name', 'latitude', 'longitude']),\n",
    "    preprocessing.StandardScaler(),\n",
    "    linear_model.LinearRegression()\n",
    "])\n",
    "\n",
    "model_selection.online_score(datasets.fetch_restaurants(), model, metrics.MAE())"
   ]
  },
  {
   "cell_type": "markdown",
   "metadata": {},
   "source": [
    "Likewhise we can use the `|` operator to assemble steps into a `Pipeline`. "
   ]
  },
  {
   "cell_type": "code",
   "execution_count": null,
   "metadata": {},
   "outputs": [],
   "source": [
    "model = (\n",
    "    compose.FuncTransformer(get_date_features) +\n",
    "    feature_extraction.TargetGroupBy(by='store_id', how=stats.RollingMean(7)) +\n",
    "    feature_extraction.TargetGroupBy(by='store_id', how=stats.RollingMean(14)) +\n",
    "    feature_extraction.TargetGroupBy(by='store_id', how=stats.RollingMean(21))\n",
    ")\n",
    "\n",
    "to_discard = ['store_id', 'date', 'genre_name', 'area_name', 'latitude', 'longitude']\n",
    "\n",
    "model = model | compose.Blacklister(to_discard) | preprocessing.StandardScaler()\n",
    "\n",
    "model |= linear_model.LinearRegression()\n",
    "\n",
    "model_selection.online_score(datasets.fetch_restaurants(), model, metrics.MAE())"
   ]
  },
  {
   "cell_type": "markdown",
   "metadata": {},
   "source": [
    "Hopefully you'll agree that this is a powerful way to express machine learning pipelines. For some people this should be quite remeniscent of the UNIX pipe operator. One final trick we want to mention is that functions are automatically wrapped with a `FuncTransformer`, which can be quite handy."
   ]
  },
  {
   "cell_type": "code",
   "execution_count": null,
   "metadata": {},
   "outputs": [],
   "source": [
    "model = get_date_features\n",
    "\n",
    "for n in [7, 14, 21]:\n",
    "    model += feature_extraction.TargetGroupBy(by='store_id', how=stats.RollingMean(n))\n",
    "\n",
    "model |= compose.Blacklister(to_discard)\n",
    "model |= preprocessing.StandardScaler()\n",
    "model |= linear_model.LinearRegression()\n",
    "\n",
    "model_selection.online_score(datasets.fetch_restaurants(), model, metrics.MAE())"
   ]
  },
  {
   "cell_type": "markdown",
   "metadata": {},
   "source": [
    "Naturally some may prefer the procedural style we first used because they find it easier to work with. It all depends on your style and you should use what you feel comfortable with. However we encourage you to use operators because we believe that this will increase the readability of your code, which is very important. To each their own!\n",
    "\n",
    "Before finishing we can take a look at what our pipeline looks graphically."
   ]
  },
  {
   "cell_type": "code",
   "execution_count": null,
   "metadata": {},
   "outputs": [],
   "source": [
    "model.draw()"
   ]
  }
 ],
 "metadata": {
  "kernelspec": {
   "display_name": "Python 3",
   "language": "python",
   "name": "python3"
  },
  "language_info": {
   "codemirror_mode": {
    "name": "ipython",
    "version": 3
   },
   "file_extension": ".py",
   "mimetype": "text/x-python",
   "name": "python",
   "nbconvert_exporter": "python",
   "pygments_lexer": "ipython3",
   "version": "3.6.5"
  }
 },
 "nbformat": 4,
 "nbformat_minor": 2
}
