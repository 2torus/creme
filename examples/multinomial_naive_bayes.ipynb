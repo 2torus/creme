{
 "cells": [
  {
   "cell_type": "code",
   "execution_count": null,
   "metadata": {},
   "outputs": [],
   "source": [
    "from sklearn import datasets\n",
    "\n",
    "\n",
    "params = {\n",
    "    'categories': [\n",
    "        'alt.atheism',\n",
    "        'talk.religion.misc',\n",
    "        'comp.graphics',\n",
    "        'sci.space',\n",
    "    ],\n",
    "    'remove': ('headers', 'footers', 'quotes'),\n",
    "    'shuffle': True,\n",
    "    'random_state': 42\n",
    "}\n",
    "\n",
    "\n",
    "train = datasets.fetch_20newsgroups(subset='train', **params)\n",
    "test = datasets.fetch_20newsgroups(subset='test', **params)"
   ]
  },
  {
   "cell_type": "code",
   "execution_count": null,
   "metadata": {},
   "outputs": [],
   "source": [
    "from sklearn import feature_extraction\n",
    "from sklearn import naive_bayes\n",
    "from sklearn import pipeline\n",
    "\n",
    "\n",
    "skl_model = pipeline.Pipeline([\n",
    "    ('vectorize', feature_extraction.text.CountVectorizer()),\n",
    "    ('naive_bayes', naive_bayes.MultinomialNB())\n",
    "])\n",
    "\n",
    "X_train = train['data']\n",
    "y_train = list(map(lambda i: train['target_names'][i], train['target']))\n",
    "\n",
    "skl_model.fit(X_train, y_train);\n",
    "\n",
    "X_test = test['data']\n",
    "y_test = list(map(lambda i: test['target_names'][i], test['target']))\n",
    "y_pred = skl_model.predict(X_test)\n",
    "\n",
    "print(metrics.classification_report(y_test, y_pred))"
   ]
  },
  {
   "cell_type": "code",
   "execution_count": null,
   "metadata": {},
   "outputs": [],
   "source": [
    "import creme.feature_extraction\n",
    "import creme.naive_bayes\n",
    "import creme.pipeline\n",
    "from sklearn import metrics\n",
    "\n",
    "\n",
    "model = creme.pipeline.Pipeline([\n",
    "    ('vectorize', creme.feature_extraction.CountVectorizer(on='text')),\n",
    "    ('naive_bayes', creme.naive_bayes.MultinomialNB())\n",
    "])\n",
    "\n",
    "for x, y in zip(train['data'], train['target']):\n",
    "    model.fit_one({'text': x}, train['target_names'][y])\n",
    "    \n",
    "y_true = [None] * len(test['data'])\n",
    "y_pred = [None] * len(test['data'])\n",
    "\n",
    "for i, (x, y) in enumerate(zip(test['data'], test['target'])):\n",
    "    y_true[i] = test['target_names'][y]\n",
    "    y_pred[i] = model.predict_one({'text': x})\n",
    "    \n",
    "print(metrics.classification_report(y_true, y_pred))"
   ]
  }
 ],
 "metadata": {
  "kernelspec": {
   "display_name": "Python 3",
   "language": "python",
   "name": "python3"
  },
  "language_info": {
   "codemirror_mode": {
    "name": "ipython",
    "version": 3
   },
   "file_extension": ".py",
   "mimetype": "text/x-python",
   "name": "python",
   "nbconvert_exporter": "python",
   "pygments_lexer": "ipython3",
   "version": "3.6.5"
  }
 },
 "nbformat": 4,
 "nbformat_minor": 2
}
