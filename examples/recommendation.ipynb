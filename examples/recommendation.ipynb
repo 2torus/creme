{
 "cells": [
  {
   "cell_type": "code",
   "execution_count": 1,
   "metadata": {},
   "outputs": [],
   "source": [
    "%load_ext autoreload\n",
    "%autoreload 2"
   ]
  },
  {
   "cell_type": "markdown",
   "metadata": {},
   "source": [
    "# MovieLens recommendation"
   ]
  },
  {
   "cell_type": "code",
   "execution_count": 2,
   "metadata": {},
   "outputs": [],
   "source": [
    "import surprise\n",
    "from surprise import model_selection\n",
    "\n",
    "data = surprise.Dataset.load_builtin('ml-100k')\n",
    "cv = model_selection.split.KFold(n_splits=5, random_state=42)"
   ]
  },
  {
   "cell_type": "markdown",
   "metadata": {},
   "source": [
    "## Random"
   ]
  },
  {
   "cell_type": "markdown",
   "metadata": {},
   "source": [
    "### Surprise"
   ]
  },
  {
   "cell_type": "code",
   "execution_count": 3,
   "metadata": {},
   "outputs": [
    {
     "name": "stdout",
     "output_type": "stream",
     "text": [
      "Evaluating RMSE, MAE of algorithm NormalPredictor on 5 split(s).\n",
      "\n",
      "                  Fold 1  Fold 2  Fold 3  Fold 4  Fold 5  Mean    Std     \n",
      "RMSE (testset)    1.5209  1.5141  1.5214  1.5145  1.5217  1.5185  0.0034  \n",
      "MAE (testset)     1.2197  1.2181  1.2199  1.2187  1.2205  1.2194  0.0009  \n",
      "Fit time          0.12    0.13    0.13    0.12    0.12    0.12    0.01    \n",
      "Test time         0.16    0.15    0.13    0.10    0.12    0.13    0.02    \n"
     ]
    }
   ],
   "source": [
    "algo = surprise.NormalPredictor()\n",
    "\n",
    "model_selection.cross_validate(algo, data, measures=['RMSE', 'MAE'], cv=cv, verbose=True);"
   ]
  },
  {
   "cell_type": "markdown",
   "metadata": {},
   "source": [
    "### Creme"
   ]
  },
  {
   "cell_type": "code",
   "execution_count": 4,
   "metadata": {},
   "outputs": [
    {
     "name": "stdout",
     "output_type": "stream",
     "text": [
      "Evaluating RMSE, MAE of algorithm RandomNormal on 5 split(s).\n",
      "\n",
      "                  Fold 1  Fold 2  Fold 3  Fold 4  Fold 5  Mean    Std     \n",
      "RMSE (testset)    1.5178  1.5214  1.5258  1.5214  1.5283  1.5229  0.0037  \n",
      "MAE (testset)     1.2195  1.2200  1.2277  1.2212  1.2264  1.2230  0.0034  \n",
      "Fit time          0.36    0.32    0.33    0.32    0.32    0.33    0.02    \n",
      "Test time         0.15    0.14    0.11    0.15    0.14    0.14    0.02    \n"
     ]
    }
   ],
   "source": [
    "from creme import reco\n",
    "\n",
    "algo = reco.RandomNormal(random_state=42)\n",
    "\n",
    "model_selection.cross_validate(algo, data, measures=['RMSE', 'MAE'], cv=cv, verbose=True);"
   ]
  },
  {
   "cell_type": "markdown",
   "metadata": {},
   "source": [
    "## SGD baseline"
   ]
  },
  {
   "cell_type": "markdown",
   "metadata": {},
   "source": [
    "### Surprise"
   ]
  },
  {
   "cell_type": "code",
   "execution_count": 11,
   "metadata": {},
   "outputs": [
    {
     "name": "stdout",
     "output_type": "stream",
     "text": [
      "Evaluating RMSE, MAE of algorithm BaselineOnly on 5 split(s).\n",
      "\n",
      "                  Fold 1  Fold 2  Fold 3  Fold 4  Fold 5  Mean    Std     \n",
      "RMSE (testset)    0.9767  0.9718  0.9864  0.9760  0.9823  0.9786  0.0051  \n",
      "MAE (testset)     0.7777  0.7748  0.7878  0.7789  0.7826  0.7804  0.0045  \n",
      "Fit time          0.05    0.06    0.07    0.06    0.06    0.06    0.01    \n",
      "Test time         0.09    0.10    0.10    0.14    0.14    0.12    0.02    \n"
     ]
    }
   ],
   "source": [
    "bsl_options = {\n",
    "    'method': 'sgd',\n",
    "    'n_epochs': 1,\n",
    "    'learning_rate': 0.01,\n",
    "    'reg': 0.01\n",
    "}\n",
    "algo = surprise.BaselineOnly(bsl_options=bsl_options, verbose=False)\n",
    "\n",
    "model_selection.cross_validate(algo, data, measures=['RMSE', 'MAE'], cv=cv, verbose=True);"
   ]
  },
  {
   "cell_type": "markdown",
   "metadata": {},
   "source": [
    "### Creme"
   ]
  },
  {
   "cell_type": "code",
   "execution_count": 21,
   "metadata": {},
   "outputs": [
    {
     "name": "stdout",
     "output_type": "stream",
     "text": [
      "Evaluating RMSE, MAE of algorithm SGDBaseline on 5 split(s).\n",
      "\n",
      "                  Fold 1  Fold 2  Fold 3  Fold 4  Fold 5  Mean    Std     \n",
      "RMSE (testset)    0.9653  0.9610  0.9535  0.9369  0.9334  0.9500  0.0128  \n",
      "MAE (testset)     0.7620  0.7605  0.7559  0.7417  0.7391  0.7518  0.0096  \n",
      "Fit time          0.29    0.34    0.36    0.31    0.32    0.32    0.03    \n",
      "Test time         0.06    0.10    0.11    0.10    0.09    0.09    0.02    \n"
     ]
    }
   ],
   "source": [
    "from creme import optim\n",
    "\n",
    "algo = reco.SGDBaseline(\n",
    "    row_optimizer=optim.VanillaSGD(lr=0.01),\n",
    "    col_optimizer=optim.VanillaSGD(lr=0.01),\n",
    "    l2=0.01\n",
    ")\n",
    "\n",
    "model_selection.cross_validate(algo, data, measures=['RMSE', 'MAE'], cv=cv, verbose=True);"
   ]
  },
  {
   "cell_type": "markdown",
   "metadata": {},
   "source": [
    "## SVD"
   ]
  },
  {
   "cell_type": "markdown",
   "metadata": {},
   "source": [
    "### Surprise"
   ]
  },
  {
   "cell_type": "code",
   "execution_count": 25,
   "metadata": {},
   "outputs": [
    {
     "name": "stdout",
     "output_type": "stream",
     "text": [
      "Evaluating RMSE, MAE of algorithm SVD on 5 split(s).\n",
      "\n",
      "                  Fold 1  Fold 2  Fold 3  Fold 4  Fold 5  Mean    Std     \n",
      "RMSE (testset)    1.0088  1.0037  1.0168  1.0052  1.0138  1.0097  0.0050  \n",
      "MAE (testset)     0.8142  0.8097  0.8221  0.8116  0.8169  0.8149  0.0043  \n",
      "Fit time          0.24    0.24    0.24    0.26    0.27    0.25    0.01    \n",
      "Test time         0.12    0.19    0.17    0.13    0.16    0.15    0.03    \n"
     ]
    }
   ],
   "source": [
    "algo = surprise.SVD(\n",
    "    n_epochs=1,\n",
    "    random_state=42,\n",
    "    verbose=False\n",
    ")\n",
    "\n",
    "model_selection.cross_validate(algo, data, measures=['RMSE', 'MAE'], cv=cv, verbose=True);"
   ]
  },
  {
   "cell_type": "markdown",
   "metadata": {},
   "source": [
    "### Creme"
   ]
  },
  {
   "cell_type": "code",
   "execution_count": null,
   "metadata": {},
   "outputs": [],
   "source": []
  }
 ],
 "metadata": {
  "kernelspec": {
   "display_name": "Python 3",
   "language": "python",
   "name": "python3"
  },
  "language_info": {
   "codemirror_mode": {
    "name": "ipython",
    "version": 3
   },
   "file_extension": ".py",
   "mimetype": "text/x-python",
   "name": "python",
   "nbconvert_exporter": "python",
   "pygments_lexer": "ipython3",
   "version": "3.6.5"
  }
 },
 "nbformat": 4,
 "nbformat_minor": 2
}
