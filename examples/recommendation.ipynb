{
 "cells": [
  {
   "cell_type": "code",
   "execution_count": null,
   "metadata": {},
   "outputs": [],
   "source": [
    "%load_ext autoreload\n",
    "%autoreload 2"
   ]
  },
  {
   "cell_type": "markdown",
   "metadata": {},
   "source": [
    "# MovieLens recommendation"
   ]
  },
  {
   "cell_type": "code",
   "execution_count": null,
   "metadata": {},
   "outputs": [],
   "source": [
    "import surprise\n",
    "from surprise import model_selection\n",
    "\n",
    "data = surprise.Dataset.load_builtin('ml-100k')\n",
    "cv = model_selection.split.KFold(n_splits=5, random_state=42)"
   ]
  },
  {
   "cell_type": "markdown",
   "metadata": {},
   "source": [
    "## Random"
   ]
  },
  {
   "cell_type": "markdown",
   "metadata": {},
   "source": [
    "### Surprise"
   ]
  },
  {
   "cell_type": "code",
   "execution_count": null,
   "metadata": {},
   "outputs": [],
   "source": [
    "algo = surprise.NormalPredictor()\n",
    "\n",
    "model_selection.cross_validate(algo, data, measures=['RMSE', 'MAE'], cv=cv, verbose=True);"
   ]
  },
  {
   "cell_type": "markdown",
   "metadata": {},
   "source": [
    "### Creme"
   ]
  },
  {
   "cell_type": "code",
   "execution_count": null,
   "metadata": {},
   "outputs": [],
   "source": [
    "from creme import reco\n",
    "\n",
    "algo = reco.RandomNormal(random_state=42)\n",
    "\n",
    "model_selection.cross_validate(algo, data, measures=['RMSE', 'MAE'], cv=cv, verbose=True);"
   ]
  },
  {
   "cell_type": "markdown",
   "metadata": {},
   "source": [
    "## SGD baseline"
   ]
  },
  {
   "cell_type": "markdown",
   "metadata": {},
   "source": [
    "### Surprise"
   ]
  },
  {
   "cell_type": "code",
   "execution_count": null,
   "metadata": {},
   "outputs": [],
   "source": [
    "bsl_options = {\n",
    "    'method': 'sgd',\n",
    "    'n_epochs': 1,\n",
    "    'learning_rate': 0.01,\n",
    "    'reg': 0.01\n",
    "}\n",
    "algo = surprise.BaselineOnly(bsl_options=bsl_options, verbose=False)\n",
    "\n",
    "model_selection.cross_validate(algo, data, measures=['RMSE', 'MAE'], cv=cv, verbose=True);"
   ]
  },
  {
   "cell_type": "markdown",
   "metadata": {},
   "source": [
    "### Creme"
   ]
  },
  {
   "cell_type": "code",
   "execution_count": null,
   "metadata": {},
   "outputs": [],
   "source": [
    "from creme import optim\n",
    "\n",
    "algo = reco.SGDBaseline(\n",
    "    row_optimizer=optim.VanillaSGD(lr=0.01),\n",
    "    col_optimizer=optim.VanillaSGD(lr=0.01),\n",
    "    l2=0.01\n",
    ")\n",
    "\n",
    "model_selection.cross_validate(algo, data, measures=['RMSE', 'MAE'], cv=cv, verbose=True);"
   ]
  },
  {
   "cell_type": "markdown",
   "metadata": {},
   "source": [
    "## SVD"
   ]
  },
  {
   "cell_type": "markdown",
   "metadata": {},
   "source": [
    "### Surprise"
   ]
  },
  {
   "cell_type": "code",
   "execution_count": null,
   "metadata": {},
   "outputs": [],
   "source": [
    "algo = surprise.SVD(\n",
    "    n_epochs=1,\n",
    "    random_state=42,\n",
    "    verbose=False\n",
    ")\n",
    "\n",
    "model_selection.cross_validate(algo, data, measures=['RMSE', 'MAE'], cv=cv, verbose=True);"
   ]
  },
  {
   "cell_type": "markdown",
   "metadata": {},
   "source": [
    "### Creme"
   ]
  },
  {
   "cell_type": "code",
   "execution_count": null,
   "metadata": {},
   "outputs": [],
   "source": []
  }
 ],
 "metadata": {
  "kernelspec": {
   "display_name": "Python 3",
   "language": "python",
   "name": "python3"
  },
  "language_info": {
   "codemirror_mode": {
    "name": "ipython",
    "version": 3
   },
   "file_extension": ".py",
   "mimetype": "text/x-python",
   "name": "python",
   "nbconvert_exporter": "python",
   "pygments_lexer": "ipython3",
   "version": "3.6.5"
  }
 },
 "nbformat": 4,
 "nbformat_minor": 2
}
