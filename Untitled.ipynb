{
 "cells": [
  {
   "cell_type": "code",
   "execution_count": null,
   "metadata": {},
   "outputs": [],
   "source": [
    "%load_ext autoreload\n",
    "%autoreload 2"
   ]
  },
  {
   "cell_type": "code",
   "execution_count": null,
   "metadata": {},
   "outputs": [],
   "source": [
    "import functools\n",
    "from creme import compose\n",
    "from creme import linear_model\n",
    "from creme import model_selection\n",
    "from creme import multiclass\n",
    "from creme import optim\n",
    "from creme import preprocessing\n",
    "from creme import stream\n",
    "from sklearn import datasets\n",
    "from sklearn import metrics\n",
    "\n",
    "X_y = stream.iter_sklearn_dataset(\n",
    "    load_dataset=datasets.load_iris,\n",
    "    shuffle=True,\n",
    "    random_state=42\n",
    ")\n",
    "\n",
    "optimr = optim.RMSProp()\n",
    "model = compose.Pipeline([\n",
    "    ('scale', preprocessing.StandardScaler()),\n",
    "    ('learn', multiclass.OutputCodeClassifier(\n",
    "        binary_classifier=linear_model.LogisticRegression(optimr))\n",
    "    )\n",
    "])\n",
    "\n",
    "metric = functools.partial(metrics.f1_score, average='macro')\n",
    "\n",
    "model_selection.online_score(X_y, model, metric)"
   ]
  },
  {
   "cell_type": "code",
   "execution_count": null,
   "metadata": {},
   "outputs": [],
   "source": [
    "model.steps[-1][1].classifiers"
   ]
  },
  {
   "cell_type": "code",
   "execution_count": null,
   "metadata": {},
   "outputs": [],
   "source": []
  }
 ],
 "metadata": {
  "kernelspec": {
   "display_name": "Python 3",
   "language": "python",
   "name": "python3"
  },
  "language_info": {
   "codemirror_mode": {
    "name": "ipython",
    "version": 3
   },
   "file_extension": ".py",
   "mimetype": "text/x-python",
   "name": "python",
   "nbconvert_exporter": "python",
   "pygments_lexer": "ipython3",
   "version": "3.6.5"
  }
 },
 "nbformat": 4,
 "nbformat_minor": 2
}
