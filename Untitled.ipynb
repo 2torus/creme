{
 "cells": [
  {
   "cell_type": "code",
   "execution_count": null,
   "metadata": {},
   "outputs": [],
   "source": [
    "%load_ext autoreload\n",
    "%autoreload 2"
   ]
  },
  {
   "cell_type": "code",
   "execution_count": null,
   "metadata": {},
   "outputs": [],
   "source": [
    "import collections\n",
    "\n",
    "from creme import compose\n",
    "from creme import linear_model\n",
    "from creme import preprocessing\n",
    "\n",
    "\n",
    "def date_features(x):\n",
    "    pass\n",
    "\n",
    "        \n",
    "def time_features(x):\n",
    "    pass\n",
    "\n",
    "\n",
    "        \n",
    "pp = compose.FuncTransformer(date_features)\n",
    "\n",
    "pp = pp | time_features\n",
    "\n",
    "pp += preprocessing.StandardScaler()\n",
    "\n",
    "pp += linear_model.LinearRegression()"
   ]
  },
  {
   "cell_type": "code",
   "execution_count": null,
   "metadata": {},
   "outputs": [],
   "source": [
    "for name, step in pp.items():\n",
    "    print(name, step)\n",
    "    \n",
    "print(pp)"
   ]
  },
  {
   "cell_type": "code",
   "execution_count": null,
   "metadata": {},
   "outputs": [],
   "source": [
    "pp._final_step"
   ]
  },
  {
   "cell_type": "code",
   "execution_count": null,
   "metadata": {},
   "outputs": [],
   "source": [
    "pp.keys()"
   ]
  },
  {
   "cell_type": "code",
   "execution_count": null,
   "metadata": {},
   "outputs": [],
   "source": [
    "class Foo:\n",
    "    \n",
    "    @classmethod\n",
    "    def __instancecheck__(cls, instance):\n",
    "        print('hello')\n",
    "        return isinstance(instance, Foo)\n",
    "\n",
    "class Bar:\n",
    "    \n",
    "    @property\n",
    "    def __class__(self):\n",
    "        return Foo\n",
    "    \n",
    "    \n",
    "bar = Bar()\n",
    "isinstance(bar, Foo)"
   ]
  },
  {
   "cell_type": "code",
   "execution_count": null,
   "metadata": {},
   "outputs": [],
   "source": [
    "type(bar)"
   ]
  },
  {
   "cell_type": "code",
   "execution_count": null,
   "metadata": {},
   "outputs": [],
   "source": []
  }
 ],
 "metadata": {
  "kernelspec": {
   "display_name": "Python 3",
   "language": "python",
   "name": "python3"
  },
  "language_info": {
   "codemirror_mode": {
    "name": "ipython",
    "version": 3
   },
   "file_extension": ".py",
   "mimetype": "text/x-python",
   "name": "python",
   "nbconvert_exporter": "python",
   "pygments_lexer": "ipython3",
   "version": "3.6.5"
  }
 },
 "nbformat": 4,
 "nbformat_minor": 2
}
