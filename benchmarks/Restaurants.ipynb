{
 "cells": [
  {
   "cell_type": "markdown",
   "metadata": {},
   "source": [
    "# Kaggle recruit restaurants benchmark"
   ]
  },
  {
   "cell_type": "markdown",
   "metadata": {},
   "source": [
    "See what the data looks like."
   ]
  },
  {
   "cell_type": "code",
   "execution_count": null,
   "metadata": {},
   "outputs": [],
   "source": [
    "from creme import datasets\n",
    "\n",
    "for x, y in datasets.fetch_restaurants():\n",
    "    print(x, y)\n",
    "    break"
   ]
  },
  {
   "cell_type": "markdown",
   "metadata": {},
   "source": [
    "Define a feature extraction pipeline."
   ]
  },
  {
   "cell_type": "code",
   "execution_count": null,
   "metadata": {},
   "outputs": [],
   "source": [
    "import datetime as dt\n",
    "from creme import compose\n",
    "from creme import feature_extraction\n",
    "from creme import preprocessing\n",
    "from creme import stats\n",
    "\n",
    "\n",
    "def parse_date(x):\n",
    "        x['date'] = dt.datetime.strptime(x['date'], '%Y-%m-%d')\n",
    "        return x\n",
    "\n",
    "    \n",
    "def get_date_info(x):\n",
    "    return {\n",
    "        'day_of_week': x['date'].weekday(),\n",
    "        'is_weekend': x['date'].weekday() in (5, 6)\n",
    "    }\n",
    "\n",
    "\n",
    "def make_feature_extractor():\n",
    "\n",
    "    return compose.Pipeline([\n",
    "        ('parse_date', preprocessing.FuncTransformer(parse_date)),\n",
    "        ('features', compose.TransformerUnion([\n",
    "            preprocessing.FuncTransformer(get_date_info),\n",
    "            feature_extraction.GroupBy(\n",
    "                on='visitors',\n",
    "                by='store_id',\n",
    "                how=stats.EWMean(alpha=0.5)\n",
    "            )\n",
    "        ])),\n",
    "        ('scale', preprocessing.StandardScaler())\n",
    "    ])"
   ]
  },
  {
   "cell_type": "markdown",
   "metadata": {},
   "source": [
    "Check the feature extraction pipeline."
   ]
  },
  {
   "cell_type": "code",
   "execution_count": null,
   "metadata": {},
   "outputs": [],
   "source": [
    "feature_extractor = make_feature_extractor()\n",
    "\n",
    "for x, y in datasets.fetch_restaurants():\n",
    "    \n",
    "    x['visitors'] = y  # The target is needed by the feature extraction pipeline\n",
    "    x = feature_extractor.fit_one(x, y)\n",
    "    \n",
    "    print(x, y)\n",
    "    \n",
    "    break"
   ]
  },
  {
   "cell_type": "markdown",
   "metadata": {},
   "source": [
    "Let's also write a function to benchmark creme models."
   ]
  },
  {
   "cell_type": "code",
   "execution_count": null,
   "metadata": {},
   "outputs": [],
   "source": [
    "import time\n",
    "from sklearn import exceptions\n",
    "\n",
    "\n",
    "def benchmark_creme_model(model, metric):\n",
    "    \n",
    "    feature_extractor = make_feature_extractor()\n",
    "    duration = 0\n",
    "    \n",
    "    for x, y in datasets.fetch_restaurants():\n",
    "    \n",
    "        x['visitors'] = y  \n",
    "        x = feature_extractor.fit_one(x, y)\n",
    "\n",
    "        tic = time.time()\n",
    "        y_pred = model.fit_one(x, y)\n",
    "        duration += time.time() - tic\n",
    "        metric.update(y, y_pred)\n",
    "    \n",
    "    return metric, duration"
   ]
  },
  {
   "cell_type": "markdown",
   "metadata": {},
   "source": [
    "Let's also write a function to benchmark scikit-learn models that have a `partial_fit` method."
   ]
  },
  {
   "cell_type": "code",
   "execution_count": null,
   "metadata": {},
   "outputs": [],
   "source": [
    "from sklearn import exceptions\n",
    "\n",
    "\n",
    "def benchmark_sklearn_model(model, metric):\n",
    "    \n",
    "    feature_extractor = make_feature_extractor()\n",
    "    duration = 0\n",
    "    \n",
    "    for x, y in datasets.fetch_restaurants():\n",
    "    \n",
    "        # Extract the features\n",
    "        x['visitors'] = y  \n",
    "        x = feature_extractor.fit_one(x, y)\n",
    "        x = list(x.values())\n",
    "\n",
    "        # Predict the output of the current observation\n",
    "        try:\n",
    "            y_pred = model.predict([x])[0]\n",
    "        except exceptions.NotFittedError:\n",
    "            y_pred = 0\n",
    "        metric.update(y, y_pred)\n",
    "\n",
    "        # Update the model\n",
    "        tic = time.time()\n",
    "        model.partial_fit([x], [y])\n",
    "        duration += time.time() - tic\n",
    "    \n",
    "    return metric, duration"
   ]
  },
  {
   "cell_type": "markdown",
   "metadata": {},
   "source": [
    "## LinearRegression"
   ]
  },
  {
   "cell_type": "markdown",
   "metadata": {},
   "source": [
    "MAE: 4.60943 in 8.418"
   ]
  },
  {
   "cell_type": "code",
   "execution_count": null,
   "metadata": {},
   "outputs": [],
   "source": [
    "from creme import linear_model\n",
    "from creme import metrics\n",
    "from creme import optim\n",
    "\n",
    "model = linear_model.LinearRegression(optimizer=optim.VanillaSGD(0.005))\n",
    "\n",
    "metric, duration = benchmark_creme_model(model, metrics.MAE())\n",
    "\n",
    "print(f'{metric} in {duration:.3f}')"
   ]
  },
  {
   "cell_type": "code",
   "execution_count": null,
   "metadata": {},
   "outputs": [],
   "source": [
    "model.weights"
   ]
  },
  {
   "cell_type": "code",
   "execution_count": null,
   "metadata": {},
   "outputs": [],
   "source": [
    "model.intercept.get()"
   ]
  },
  {
   "cell_type": "markdown",
   "metadata": {},
   "source": [
    "## sklearn's SGDRegressor"
   ]
  },
  {
   "cell_type": "code",
   "execution_count": null,
   "metadata": {},
   "outputs": [],
   "source": [
    "from sklearn import linear_model\n",
    "\n",
    "model = linear_model.SGDRegressor(\n",
    "    learning_rate='constant',\n",
    "    eta0=0.01,\n",
    "    max_iter=1,\n",
    "    alpha=0,\n",
    "    tol=.0,\n",
    "    random_state=42\n",
    ")\n",
    "\n",
    "metric, duration = benchmark_sklearn_model(model, metrics.MAE())\n",
    "\n",
    "print(f'{metric} in {duration:.3f}')"
   ]
  },
  {
   "cell_type": "code",
   "execution_count": null,
   "metadata": {},
   "outputs": [],
   "source": [
    "model.coef_"
   ]
  },
  {
   "cell_type": "code",
   "execution_count": null,
   "metadata": {},
   "outputs": [],
   "source": [
    "model.coef_"
   ]
  },
  {
   "cell_type": "code",
   "execution_count": null,
   "metadata": {},
   "outputs": [],
   "source": [
    "model.intercept_"
   ]
  },
  {
   "cell_type": "code",
   "execution_count": null,
   "metadata": {},
   "outputs": [],
   "source": []
  }
 ],
 "metadata": {
  "kernelspec": {
   "display_name": "Python 3",
   "language": "python",
   "name": "python3"
  },
  "language_info": {
   "codemirror_mode": {
    "name": "ipython",
    "version": 3
   },
   "file_extension": ".py",
   "mimetype": "text/x-python",
   "name": "python",
   "nbconvert_exporter": "python",
   "pygments_lexer": "ipython3",
   "version": "3.6.5"
  }
 },
 "nbformat": 4,
 "nbformat_minor": 2
}
